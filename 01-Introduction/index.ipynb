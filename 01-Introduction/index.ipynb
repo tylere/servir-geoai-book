{
 "cells": [
  {
   "cell_type": "code",
   "execution_count": 4,
   "metadata": {},
   "outputs": [
    {
     "name": "stdout",
     "output_type": "stream",
     "text": [
      "/Users/tylere/Documents/GitHub/tylere/servir-geoai-book/.pixi/envs/default/lib/python313.zip\n",
      "/Users/tylere/Documents/GitHub/tylere/servir-geoai-book/.pixi/envs/default/lib/python3.13\n",
      "/Users/tylere/Documents/GitHub/tylere/servir-geoai-book/.pixi/envs/default/lib/python3.13/lib-dynload\n",
      "\n",
      "/Users/tylere/Documents/GitHub/tylere/servir-geoai-book/.pixi/envs/default/lib/python3.13/site-packages\n",
      "os.getcwd()='/Users/tylere/Documents/GitHub/tylere/servir-geoai-book/Ch01-Intro'\n",
      "sys.version='3.13.0 | packaged by conda-forge | (main, Oct 17 2024, 12:32:35) [Clang 17.0.6 ]'\n"
     ]
    }
   ],
   "source": [
    "import os, sys \n",
    "\n",
    "for p in sys.path:\n",
    "    print(p)\n",
    "print(f'{os.getcwd()=}')\n",
    "print(f'{sys.version=}')"
   ]
  },
  {
   "cell_type": "code",
   "execution_count": null,
   "metadata": {},
   "outputs": [],
   "source": []
  }
 ],
 "metadata": {
  "kernelspec": {
   "display_name": "default",
   "language": "python",
   "name": "python3"
  },
  "language_info": {
   "codemirror_mode": {
    "name": "ipython",
    "version": 3
   },
   "file_extension": ".py",
   "mimetype": "text/x-python",
   "name": "python",
   "nbconvert_exporter": "python",
   "pygments_lexer": "ipython3",
   "version": "3.13.0"
  }
 },
 "nbformat": 4,
 "nbformat_minor": 2
}
