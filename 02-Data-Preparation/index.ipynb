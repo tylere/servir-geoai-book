{
 "cells": [
  {
   "cell_type": "raw",
   "metadata": {
    "vscode": {
     "languageId": "raw"
    }
   },
   "source": [
    "---\n",
    "title: \"Data Preparation\"\n",
    "author: \"Norah Smith\"\n",
    "---"
   ]
  },
  {
   "cell_type": "markdown",
   "metadata": {},
   "source": [
    "Hello World"
   ]
  },
  {
   "cell_type": "code",
   "execution_count": 1,
   "metadata": {},
   "outputs": [
    {
     "name": "stdout",
     "output_type": "stream",
     "text": [
      "/Users/tylere/Documents/GitHub/tylere/servir-geoai-book/02-Data-Preparation/.pixi/envs/default/lib/python310.zip\n",
      "/Users/tylere/Documents/GitHub/tylere/servir-geoai-book/02-Data-Preparation/.pixi/envs/default/lib/python3.10\n",
      "/Users/tylere/Documents/GitHub/tylere/servir-geoai-book/02-Data-Preparation/.pixi/envs/default/lib/python3.10/lib-dynload\n",
      "\n",
      "/Users/tylere/Documents/GitHub/tylere/servir-geoai-book/02-Data-Preparation/.pixi/envs/default/lib/python3.10/site-packages\n",
      "os.getcwd()='/Users/tylere/Documents/GitHub/tylere/servir-geoai-book/02-Data-Preparation'\n",
      "sys.version='3.10.0 | packaged by conda-forge | (default, Nov 20 2021, 02:27:15) [Clang 11.1.0 ]'\n"
     ]
    }
   ],
   "source": [
    "import os, sys \n",
    "\n",
    "for p in sys.path:\n",
    "    print(p)\n",
    "print(f'{os.getcwd()=}')\n",
    "print(f'{sys.version=}')"
   ]
  },
  {
   "cell_type": "markdown",
   "metadata": {},
   "source": [
    "{{< lipsum >}}"
   ]
  }
 ],
 "metadata": {
  "kernelspec": {
   "display_name": "default",
   "language": "python",
   "name": "python3"
  },
  "language_info": {
   "codemirror_mode": {
    "name": "ipython",
    "version": 3
   },
   "file_extension": ".py",
   "mimetype": "text/x-python",
   "name": "python",
   "nbconvert_exporter": "python",
   "pygments_lexer": "ipython3",
   "version": "3.10.0"
  }
 },
 "nbformat": 4,
 "nbformat_minor": 2
}
